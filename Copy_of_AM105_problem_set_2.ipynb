{
  "nbformat": 4,
  "nbformat_minor": 0,
  "metadata": {
    "colab": {
      "name": "Copy of AM105_problem_set_2.ipynb",
      "provenance": [],
      "collapsed_sections": [],
      "include_colab_link": true
    },
    "kernelspec": {
      "display_name": "Python 3",
      "language": "python",
      "name": "python3"
    },
    "language_info": {
      "codemirror_mode": {
        "name": "ipython",
        "version": 3
      },
      "file_extension": ".py",
      "mimetype": "text/x-python",
      "name": "python",
      "nbconvert_exporter": "python",
      "pygments_lexer": "ipython3",
      "version": "3.7.3"
    }
  },
  "cells": [
    {
      "cell_type": "markdown",
      "metadata": {
        "id": "view-in-github",
        "colab_type": "text"
      },
      "source": [
        "<a href=\"https://colab.research.google.com/github/brandontang892/brandontang892/blob/master/Copy_of_AM105_problem_set_2.ipynb\" target=\"_parent\"><img src=\"https://colab.research.google.com/assets/colab-badge.svg\" alt=\"Open In Colab\"/></a>"
      ]
    },
    {
      "cell_type": "code",
      "metadata": {
        "id": "MjrTc-uiZhui"
      },
      "source": [
        "# the first thing we do in our python notebook is import packages\n",
        "# the \"numpy\" package contains the code to many mathematical calcuations\n",
        "# and work with arrays of numbers \n",
        "# to use the functions from numpy we type np. before the same of the funtion\n",
        "# for example, if we can to calculate e^5 we would type np.exp(5)\n",
        "import numpy as np \n",
        "\n",
        "# the matplotlib package contains the code to make plots\n",
        "# you will see how it is used below \n",
        "import matplotlib.pyplot as plt"
      ],
      "execution_count": 162,
      "outputs": []
    },
    {
      "cell_type": "code",
      "metadata": {
        "id": "xAEDcIq_Zl3U"
      },
      "source": [
        "#Code for 5b\n",
        "\n",
        "# this is where we specify the right hand side of the ODE\n",
        "def f(t,y):\n",
        "  return -0.25*y + 3.0 - 5*(t**2)\n",
        "\n",
        "def sol(t):\n",
        "  # THIS IS JUST AN EXAMPE FUNCTION \n",
        "  # CHANGE THIS LINE OF CODE TO MAKE THE SOLUTION CORRECT\n",
        "  return -20*(t**2) + 160*t - 628 + 629*np.exp(-t/4.0) \n",
        "\n",
        "h = 0.01\n",
        "# np.arange(start,end,step) generates a list of numbers between \n",
        "# start and end each step apart\n",
        "times = np.arange(0,100,h) \n",
        "\n",
        "# now we make an empty numpy array of the same length as time to save the \n",
        "# values of the ODE\n",
        "y = np.zeros(len(times))\n",
        "y[0] = 1 # here is where we set the initial conditions \n",
        "\n",
        "# NOTE: when working with arrays in python, the first value in the array has index 0\n",
        "# so if we want the 10th value of an array named a, we would type a[9]\n",
        "for k in range(1,len(times)): \n",
        "  # EDIT THIS LINE OF CODE TO CHANGE THE METHOD USED TO SOLVE THE IVP \n",
        "  y[k] = y[k-1] + h * f(h * (k - 1),y[k-1])\n",
        "  "
      ],
      "execution_count": 163,
      "outputs": []
    },
    {
      "cell_type": "code",
      "metadata": {
        "colab": {
          "base_uri": "https://localhost:8080/",
          "height": 296
        },
        "id": "Cg6BNgLjaY47",
        "outputId": "ffc3c1c0-4def-4ab1-987a-dbe8331889cd"
      },
      "source": [
        "#Code for 5b\n",
        "\n",
        "# now let's plot the solution\n",
        "# this line plots the numerical solution\n",
        "plt.plot(times,y,label=\"numerical approximation\") \n",
        "\n",
        "\n",
        "# this line evaluates the exact solution at the time points\n",
        "y_exact = np.array([sol(t) for t in times]) \n",
        "\n",
        "# this line plots the analytical solutions defined by sol \n",
        "plt.plot(times,y_exact,'--',label=\"exact\")\n",
        "\n",
        "# always label our axis! \n",
        "plt.ylabel(\"y\")\n",
        "plt.xlabel(\"t\")\n",
        "plt.legend()"
      ],
      "execution_count": 164,
      "outputs": [
        {
          "output_type": "execute_result",
          "data": {
            "text/plain": [
              "<matplotlib.legend.Legend at 0x7f6659ce9b00>"
            ]
          },
          "metadata": {
            "tags": []
          },
          "execution_count": 164
        },
        {
          "output_type": "display_data",
          "data": {
            "image/png": "[encoded data removed]",
            "text/plain": [
              "<Figure size 432x288 with 1 Axes>"
            ]
          },
          "metadata": {
            "tags": [],
            "needs_background": "light"
          }
        }
      ]
    },
    {
      "cell_type": "code",
      "metadata": {
        "colab": {
          "base_uri": "https://localhost:8080/",
          "height": 296
        },
        "id": "rp3c9YNraemT",
        "outputId": "f735b585-07a9-4358-a3cb-4b44dd0cd543"
      },
      "source": [
        "#Code for 5b\n",
        "\n",
        "# calculate the difference between the numerical solution and the analytical solution\n",
        "# abs() is the absolute value function\n",
        "error = abs(y_exact-y)\n",
        "plt.plot(times,error)\n",
        "plt.ylabel(\"|y-y_exact|\")\n",
        "plt.xlabel(\"t\")"
      ],
      "execution_count": 165,
      "outputs": [
        {
          "output_type": "execute_result",
          "data": {
            "text/plain": [
              "Text(0.5, 0, 't')"
            ]
          },
          "metadata": {
            "tags": []
          },
          "execution_count": 165
        },
        {
          "output_type": "display_data",
          "data": {
            "image/png": "[encoded data removed]",
            "text/plain": [
              "<Figure size 432x288 with 1 Axes>"
            ]
          },
          "metadata": {
            "tags": [],
            "needs_background": "light"
          }
        }
      ]
    },
    {
      "cell_type": "code",
      "metadata": {
        "colab": {
          "base_uri": "https://localhost:8080/",
          "height": 0
        },
        "id": "cjjZLzAaTbuf",
        "outputId": "d11a0805-3d39-415f-daa5-8f41fe19abe4"
      },
      "source": [
        "#Code for 5b\n",
        "\n",
        "# we can also print out the array to look at the numbers\n",
        "print(abs(y_exact-y))"
      ],
      "execution_count": 166,
      "outputs": [
        {
          "output_type": "stream",
          "text": [
            "[0.00000000e+00 3.60119977e-05 7.68378028e-05 ... 8.00000000e-01\n",
            " 8.00000000e-01 8.00000000e-01]\n"
          ],
          "name": "stdout"
        }
      ]
    },
    {
      "cell_type": "code",
      "metadata": {
        "colab": {
          "base_uri": "https://localhost:8080/",
          "height": 0
        },
        "id": "xOIci5U0DcXf",
        "outputId": "b60446f5-bc75-4077-ee2e-22d329d3e20f"
      },
      "source": [
        "#Code for finding M in question 5c\r\n",
        "\r\n",
        "def second_derivative_5c(t):\r\n",
        "  return -40 + (629/16)*np.exp(-t/4)\r\n",
        "\r\n",
        "h = 0.01\r\n",
        "\r\n",
        "M = float(\"-inf\")\r\n",
        "\r\n",
        "#Code for finding M, 0 <= t <= 100, h = 0.01:\r\n",
        "for i in range(10001): \r\n",
        "  # EDIT THIS LINE OF CODE TO CHANGE THE METHOD USED TO SOLVE THE IVP \r\n",
        "  if abs(second_derivative_5c(0.01 * i)) > M:\r\n",
        "    M = abs(second_derivative_5c(0.01 * i))\r\n",
        "\r\n",
        "# This our value for M\r\n",
        "print(M)\r\n",
        "print(abs(second_derivative_5c(100)))"
      ],
      "execution_count": 167,
      "outputs": [
        {
          "output_type": "stream",
          "text": [
            "39.99999999945403\n",
            "39.99999999945403\n"
          ],
          "name": "stdout"
        }
      ]
    },
    {
      "cell_type": "code",
      "metadata": {
        "id": "bfyx3Y8KFMDt"
      },
      "source": [
        "#Code for backward Euler's for question 5e.\r\n",
        "\r\n",
        "# np.arange(start,end,step) generates a list of numbers between \r\n",
        "# start and end each step apart\r\n",
        "times_be = np.arange(0,100,h) \r\n",
        "\r\n",
        "# now we make an empty numpy array of the same length as time to save the \r\n",
        "# values of the ODE\r\n",
        "y_be = np.zeros(len(times_be))\r\n",
        "y_be[0] = 1 # here is where we set the initial conditions \r\n",
        "\r\n",
        "# NOTE: when working with arrays in python, the first value in the array has index 0\r\n",
        "# so if we want the 10th value of an array named a, we would type a[9]\r\n",
        "for k in range(1,len(times_be)): \r\n",
        "  # EDIT THIS LINE OF CODE TO CHANGE THE METHOD USED TO SOLVE THE IVP \r\n",
        "  y_be[k] = (4 * y_be[k-1] + 12 * h - 20 * h * ((h * k)**2)) / (4 + h)\r\n",
        "  "
      ],
      "execution_count": 168,
      "outputs": []
    },
    {
      "cell_type": "code",
      "metadata": {
        "id": "b2SRuDBDTveR",
        "colab": {
          "base_uri": "https://localhost:8080/",
          "height": 296
        },
        "outputId": "87cb2941-a393-4bdf-d5c4-c860f2da079f"
      },
      "source": [
        "#Code for backward Euler's for question 5e.\r\n",
        "\r\n",
        "# now let's plot the solution\r\n",
        "# this line plots the numerical solution\r\n",
        "plt.plot(times_be,y,label=\"numerical approximation, backward euler's\") \r\n",
        "\r\n",
        "\r\n",
        "# this line evaluates the exact solution at the time points\r\n",
        "y_exact_be = np.array([sol(t) for t in times_be]) \r\n",
        "\r\n",
        "# this line plots the analytical solutions defined by sol \r\n",
        "plt.plot(times_be,y_exact_be,'--',label=\"exact\")\r\n",
        "\r\n",
        "# always label our axis! \r\n",
        "plt.ylabel(\"y\")\r\n",
        "plt.xlabel(\"t\")\r\n",
        "plt.legend()"
      ],
      "execution_count": 169,
      "outputs": [
        {
          "output_type": "execute_result",
          "data": {
            "text/plain": [
              "<matplotlib.legend.Legend at 0x7f665a552cc0>"
            ]
          },
          "metadata": {
            "tags": []
          },
          "execution_count": 169
        },
        {
          "output_type": "display_data",
          "data": {
            "image/png": "[encoded data removed]",
            "text/plain": [
              "<Figure size 432x288 with 1 Axes>"
            ]
          },
          "metadata": {
            "tags": [],
            "needs_background": "light"
          }
        }
      ]
    },
    {
      "cell_type": "code",
      "metadata": {
        "id": "a5w5hKXYHJsP",
        "colab": {
          "base_uri": "https://localhost:8080/",
          "height": 296
        },
        "outputId": "36b5de92-c850-4925-ba47-1b018e002da3"
      },
      "source": [
        "#Code for backward Euler's for question 5e.\r\n",
        "\r\n",
        "# calculate the difference between the numerical solution and the analytical solution\r\n",
        "# abs() is the absolute value function\r\n",
        "error_be = abs(y_exact_be - y_be)\r\n",
        "plt.plot(times_be, error_be)\r\n",
        "plt.ylabel(\"|y-y_exact|\")\r\n",
        "plt.xlabel(\"t\")"
      ],
      "execution_count": 170,
      "outputs": [
        {
          "output_type": "execute_result",
          "data": {
            "text/plain": [
              "Text(0.5, 0, 't')"
            ]
          },
          "metadata": {
            "tags": []
          },
          "execution_count": 170
        },
        {
          "output_type": "display_data",
          "data": {
            "image/png": "[encoded data removed]",
            "text/plain": [
              "<Figure size 432x288 with 1 Axes>"
            ]
          },
          "metadata": {
            "tags": [],
            "needs_background": "light"
          }
        }
      ]
    },
    {
      "cell_type": "code",
      "metadata": {
        "id": "DLDmEMeaHt-7",
        "colab": {
          "base_uri": "https://localhost:8080/",
          "height": 0
        },
        "outputId": "a3adcc6c-fd95-48e0-e2a8-61b2ee1ab7c1"
      },
      "source": [
        "#Code for backward Euler's for question 5e.\r\n",
        "\r\n",
        "# we can also print out the array to look at the numbers\r\n",
        "print(abs(y_exact_be - y_be))"
      ],
      "execution_count": 171,
      "outputs": [
        {
          "output_type": "stream",
          "text": [
            "[0.00000000e+00 3.75540871e-05 7.99020573e-05 ... 8.00000004e-01\n",
            " 8.00000004e-01 8.00000004e-01]\n"
          ],
          "name": "stdout"
        }
      ]
    },
    {
      "cell_type": "code",
      "metadata": {
        "id": "oNs2wdm5dpBS"
      },
      "source": [
        "#Code for question 7b.\r\n",
        "\r\n",
        "# this is where we specify the right hand side of the ODE\r\n",
        "def f_infection(t,I):\r\n",
        "  return (-0.2/(10**6)) * I**2 + (0.1)*I\r\n",
        "\r\n",
        "def sol_infection(t):\r\n",
        "  # THIS IS JUST AN EXAMPE FUNCTION \r\n",
        "  # CHANGE THIS LINE OF CODE TO MAKE THE SOLUTION CORRECT\r\n",
        "  return (10**5) / (0.2 - (np.exp(-0.1*t) * -99999.8))\r\n",
        "\r\n",
        "\r\n",
        "h = 0.01\r\n",
        "# np.arange(start,end,step) generates a list of numbers between \r\n",
        "# start and end each step apart\r\n",
        "times_disease = np.arange(0,100,h) \r\n",
        "\r\n",
        "# now we make an empty numpy array of the same length as time to save the \r\n",
        "# values of the ODE\r\n",
        "I = np.zeros(len(times_disease))\r\n",
        "I[0] = 1 # here is where we set the initial conditions \r\n",
        "\r\n",
        "# NOTE: when working with arrays in python, the first value in the array has index 0\r\n",
        "# so if we want the 10th value of an array named a, we would type a[9]\r\n",
        "for k in range(1,len(times_disease)): \r\n",
        "  # EDIT THIS LINE OF CODE TO CHANGE THE METHOD USED TO SOLVE THE IVP \r\n",
        "  I[k] = I[k-1] + h * f_infection(times_disease[k - 1], I[k-1])"
      ],
      "execution_count": 172,
      "outputs": []
    },
    {
      "cell_type": "code",
      "metadata": {
        "id": "QTSXXiAJhSFi",
        "colab": {
          "base_uri": "https://localhost:8080/",
          "height": 296
        },
        "outputId": "0085b31d-316f-46f5-e452-662c89d516f5"
      },
      "source": [
        "#Code for 7b\r\n",
        "\r\n",
        "# now let's plot the solution\r\n",
        "# this line plots the numerical solution\r\n",
        "plt.plot(times_disease, I, label=\"numerical approximation\") \r\n",
        "\r\n",
        "\r\n",
        "# this line evaluates the exact solution at the time points\r\n",
        "I_exact = np.array([sol_infection(t) for t in times_disease]) \r\n",
        "\r\n",
        "# this line plots the analytical solutions defined by sol \r\n",
        "plt.plot(times_disease, I_exact,'--',label=\"exact\")\r\n",
        "\r\n",
        "# always label our axis! \r\n",
        "plt.ylabel(\"I\")\r\n",
        "plt.xlabel(\"t\")\r\n",
        "plt.legend()"
      ],
      "execution_count": 173,
      "outputs": [
        {
          "output_type": "execute_result",
          "data": {
            "text/plain": [
              "<matplotlib.legend.Legend at 0x7f6659b36f98>"
            ]
          },
          "metadata": {
            "tags": []
          },
          "execution_count": 173
        },
        {
          "output_type": "display_data",
          "data": {
            "image/png": "[encoded data removed]",
            "text/plain": [
              "<Figure size 432x288 with 1 Axes>"
            ]
          },
          "metadata": {
            "tags": [],
            "needs_background": "light"
          }
        }
      ]
    },
    {
      "cell_type": "code",
      "metadata": {
        "id": "B5ASETBahiIW",
        "colab": {
          "base_uri": "https://localhost:8080/",
          "height": 296
        },
        "outputId": "2b9e5a18-44d4-4073-d297-9a96e1a95d82"
      },
      "source": [
        "#Code for 5b\r\n",
        "\r\n",
        "# calculate the difference between the numerical solution and the analytical solution\r\n",
        "# abs() is the absolute value function\r\n",
        "error_disease = abs(I_exact-I)\r\n",
        "plt.plot(times_disease,error_disease)\r\n",
        "plt.ylabel(\"|I-I_exact|\")\r\n",
        "plt.xlabel(\"t\")"
      ],
      "execution_count": 174,
      "outputs": [
        {
          "output_type": "execute_result",
          "data": {
            "text/plain": [
              "Text(0.5, 0, 't')"
            ]
          },
          "metadata": {
            "tags": []
          },
          "execution_count": 174
        },
        {
          "output_type": "display_data",
          "data": {
            "image/png": "[encoded data removed]",
            "text/plain": [
              "<Figure size 432x288 with 1 Axes>"
            ]
          },
          "metadata": {
            "tags": [],
            "needs_background": "light"
          }
        }
      ]
    },
    {
      "cell_type": "code",
      "metadata": {
        "id": "1tsrnuCmh3rn",
        "colab": {
          "base_uri": "https://localhost:8080/",
          "height": 0
        },
        "outputId": "edba7d14-c83e-4f69-ee3e-6b452f3bfc07"
      },
      "source": [
        "#Code for 7b\r\n",
        "\r\n",
        "# we can also print out the array to look at the numbers\r\n",
        "print(abs(I_exact-I))"
      ],
      "execution_count": 175,
      "outputs": [
        {
          "output_type": "stream",
          "text": [
            "[0.00000000e+00 5.00163706e-07 1.00132798e-06 ... 9.95730674e+01\n",
            " 9.96735121e+01 9.97740484e+01]\n"
          ],
          "name": "stdout"
        }
      ]
    },
    {
      "cell_type": "code",
      "metadata": {
        "id": "vG94eRGIjl-k",
        "colab": {
          "base_uri": "https://localhost:8080/",
          "height": 0
        },
        "outputId": "18170b97-0bfa-4e49-d12e-11f4a4362856"
      },
      "source": [
        "#Code for 7c\r\n",
        "\r\n",
        "# this is where we specify the right hand side of the ODE\r\n",
        "def f_infection(t,I):\r\n",
        "  return -0.1*I + (0.2*I*((10**6) - I))/(10**6)\r\n",
        "\r\n",
        "def sol_infection(t):\r\n",
        "  # THIS IS JUST AN EXAMPE FUNCTION \r\n",
        "  # CHANGE THIS LINE OF CODE TO MAKE THE SOLUTION CORRECT\r\n",
        "  return 10**5 / (0.2 - np.exp(-0.1*t)*-99999.8)\r\n",
        "\r\n",
        "h = 0.0004\r\n",
        "\r\n",
        "# np.arange(start,end,step) generates a list of numbers between \r\n",
        "# start and end each step apart\r\n",
        "times_disease_solve = np.arange(0,100,h) \r\n",
        "\r\n",
        "# now we make an empty numpy array of the same length as time to save the \r\n",
        "# values of the ODE\r\n",
        "I_solve = np.zeros(len(times_disease_solve))\r\n",
        "I_solve[0] = 1 # here is where we set the initial conditions \r\n",
        "\r\n",
        "# NOTE: when working with arrays in python, the first value in the array has index 0\r\n",
        "# so if we want the 10th value of an array named a, we would type a[9]\r\n",
        "for k in range(1,len(times_disease_solve)): \r\n",
        "  # EDIT THIS LINE OF CODE TO CHANGE THE METHOD USED TO SOLVE THE IVP \r\n",
        "  I_solve[k] = I_solve[k-1] + h * f_infection(h * (k - 1), I_solve[k-1])\r\n",
        "\r\n",
        "print(abs(I_solve[len(times_disease_solve) - 1] - sol_infection(100)))"
      ],
      "execution_count": 176,
      "outputs": [
        {
          "output_type": "stream",
          "text": [
            "4.814182871425146\n"
          ],
          "name": "stdout"
        }
      ]
    }
  ]
}